{
 "cells": [
  {
   "cell_type": "markdown",
   "metadata": {},
   "source": [
    "# TP 2-3 : Programmation dynamique"
   ]
  },
  {
   "cell_type": "markdown",
   "metadata": {},
   "source": [
    "### Initialisation (à faire une seule fois)"
   ]
  },
  {
   "cell_type": "markdown",
   "metadata": {},
   "source": [
    "### Récupération des données"
   ]
  },
  {
   "cell_type": "code",
   "execution_count": 1,
   "metadata": {},
   "outputs": [
    {
     "data": {
      "text/plain": [
       "readKnaptxtInstance (generic function with 1 method)"
      ]
     },
     "execution_count": 1,
     "metadata": {},
     "output_type": "execute_result"
    }
   ],
   "source": [
    "function readKnaptxtInstance(filename)\n",
    "    price=[]\n",
    "    weight=[]\n",
    "    KnapCap=[]\n",
    "    open(filename) do f\n",
    "        for i in 1:3\n",
    "            tok = split(readline(f))\n",
    "            if(tok[1] == \"ListPrices=\")\n",
    "                for i in 2:(length(tok)-1)\n",
    "                    push!(price,parse(Int64, tok[i]))\n",
    "                end\n",
    "            elseif(tok[1] == \"ListWeights=\")\n",
    "                for i in 2:(length(tok)-1)\n",
    "                    push!(weight,parse(Int64, tok[i]))\n",
    "                end\n",
    "            elseif(tok[1] == \"Capacity=\")\n",
    "                push!(KnapCap, parse(Int64, tok[2]))\n",
    "            else\n",
    "                println(\"Unknown read :\", tok)\n",
    "            end \n",
    "        end\n",
    "    end\n",
    "    capacity=KnapCap[1]\n",
    "    return price, weight, capacity\n",
    "end"
   ]
  },
  {
   "cell_type": "markdown",
   "metadata": {},
   "source": [
    "###  fonction de créaction de tableau \n"
   ]
  },
  {
   "cell_type": "code",
   "execution_count": 2,
   "metadata": {},
   "outputs": [
    {
     "data": {
      "text/plain": [
       "CreatTableau (generic function with 1 method)"
      ]
     },
     "execution_count": 2,
     "metadata": {},
     "output_type": "execute_result"
    }
   ],
   "source": [
    "    # fonction: CreatTableau\n",
    "    # Les paramètres d'entrée: liste des couts(prix), poids des objets dans l'odre décroissant des prix,\n",
    "    #              la capacité maximale du sac \n",
    "    # Valeur duretour : le tableau des prix maximaux en fonction du poids maximal du sac et du nombre d'objets \n",
    "    \n",
    "    function CreatTableau(cout, poids, capacite)\n",
    "    lcout = length(cout)\n",
    "    tableau = [(0,[]) for i=1:(lcout), j=1:(capacite+1)]\n",
    "    \n",
    "    for j in 1:(capacite+1)                 #pour initialiser la première ligne du tableau\n",
    "        if j-1 >= poids[1]\n",
    "            (p,t) = tableau[1,j]\n",
    "            tableau[1,j] = (cout[1],[1])\n",
    "        end\n",
    "    end\n",
    "    \n",
    "    \n",
    "    for i in 2:(lcout)                  \n",
    "        for j in 2:(capacite+1)\n",
    "            if (j-poids[i]) > 0               #On applique la relation du cours\n",
    "                (p1,t1) = tableau[(i-1),j]\n",
    "                (p2,t2) = tableau[(i-1),(j-poids[i])]\n",
    "                if p2 + cout[i] > p1\n",
    "                    t3 = copy(t2)\n",
    "                    t3 = push!(t3,i)\n",
    "                    tableau[i,j] = (p2 + cout[i], t3)\n",
    "                else \n",
    "                    tableau[i,j] = (p1,t1)\n",
    "                end\n",
    "            else\n",
    "                (p1,t1) = tableau[(i-1),j]\n",
    "                tableau[i,j] = (p1,t1)\n",
    "            end\n",
    "        end\n",
    "    end\n",
    "    return tableau\n",
    "end\n",
    "\n",
    "#Tout d'abord on définit la fonction createTableau qui s'occupe de la création d'un tableau \n",
    "#des prix maximaux en fonction du poids maximal du sac et du nombre d'objets \n",
    "\n",
    "#t3: liste ou on met l'élément qu'on ajouté au sac pour qu'il aura cette capacité\n",
    "\n",
    "\n",
    "\n",
    "   "
   ]
  },
  {
   "cell_type": "code",
   "execution_count": 1,
   "metadata": {},
   "outputs": [],
   "source": [
    "### Expliquons le fonctionnement du programme ci dessus\n",
    "\n",
    "Le programme prend en entrée trois tableaux : 'cout', 'poids' et 'capacite'. Le tableau cout contient les coûts de chaque \n",
    "objet, le tableau poids contient les poids de chaque objet et la variable capacite représente la capacité maximale du \n",
    "sac à dos.\n",
    "\n",
    "Aprés on crée un tableau 'tableau' qui contient des tuples de la forme (prix, indices). Le tuple (prix, indices) à \n",
    "l'indice (i,j) du tableau 'tableau' représente le prix maximal que l'on peut obtenir en prenant des objets d'indices compris \n",
    "entre 1 et i, e\n",
    "\n",
    "\n",
    "t en respectant une contrainte de poids maximale de j.\n",
    "\n",
    "Le programme commence par initialiser la première ligne du tableau tableau en vérifiant si le poids de l'objet 1 est inférieur \n",
    "à la colonne actuelle du tableau. Si c'est le cas, alors le prix maximal est mis à jour avec le coût de l'objet 1 et l'indice \n",
    "de l'objet est ajouté à la liste des indices.\n",
    "\n",
    "Ensuite, le programme parcourt chaque ligne et chaque colonne du tableau tableau en utilisant les boucles for et met à jour\n",
    "le tuple (prix, indices) en utilisant la relation du cours vue en classe. Si le poids de l'objet actuel plus le poids \n",
    "maximal déjà pris est inférieur à la colonne actuelle du tableau, alors le tuple (prix, indices) est mis à jour avec \n",
    "le coût de l'objet actuel et l'indice de l'objet est ajouté à la liste des indices. Sinon, le tuple (prix, indices) est \n",
    "laissé inchangé.\n",
    "\n",
    "Enfin, le programme retourne le tableau 'tableau' qui contient les tuples (prix, indices) pour chaque contrainte de poids \n",
    "maximale."
   ]
  },
  {
   "cell_type": "markdown",
   "metadata": {},
   "source": [
    "###  fonction de recherche de solution\n"
   ]
  },
  {
   "cell_type": "code",
   "execution_count": 3,
   "metadata": {},
   "outputs": [
    {
     "data": {
      "text/plain": [
       "FoundSolution (generic function with 1 method)"
      ]
     },
     "execution_count": 3,
     "metadata": {},
     "output_type": "execute_result"
    }
   ],
   "source": [
    "# fonction : FoundSolution\n",
    "# parametres d'entrée: le tableau retourné par la fonction CreatTableau\n",
    "#              le nombre d'objets concidérés au départ \n",
    "#              la capacité maximale du sac \n",
    "# retour : le cout maximum correspôndant à la capacité maximale du sac, \n",
    "#          les indices dans l'ordre décroissant de prix des objets dans le sac \n",
    "\n",
    "function FoundSolution(tableau, lcout, capacite)\n",
    "    coutMax = 0\n",
    "    indMax = []\n",
    "    for i in 1:lcout\n",
    "        (t,ind) = tableau[i,capacite+1] \n",
    "        if t > coutMax\n",
    "            coutMax = t\n",
    "            indMax = ind\n",
    "        end\n",
    "    end\n",
    "    return coutMax, indMax\n",
    "end"
   ]
  },
  {
   "cell_type": "code",
   "execution_count": null,
   "metadata": {},
   "outputs": [],
   "source": [
    "###Expliquons le fonctionnement du programme ci dessus\n",
    "\n",
    "La fonction 'FoundSolution' prend en entrée un tableau de résultats (retourné par la fonction CreatTableau), le nombre \n",
    "d'objets concidérés au départ et la capacité maximale du sac à dos.\n",
    "\n",
    "La fonction parcourt chaque ligne du tableau et cherche le tuple (prix, indices) qui a le plus grand prix. Elle met à \n",
    "jour la variable 'coutMax' avec le prix maximal trouvé et la variable 'indMax' avec la liste des indices correspondant à ce \n",
    "prix maximal.\n",
    "\n",
    "Enfin, la fonction retourne le tuple (coutMax, indMax) qui contient le coût maximal trouvé et la liste des indices des \n",
    "objets qui ont été sélectionnés pour atteindre ce coût maximal."
   ]
  },
  {
   "cell_type": "markdown",
   "metadata": {},
   "source": [
    "### Boucle principale : résoudre le problème par programmation dynamique"
   ]
  },
  {
   "cell_type": "code",
   "execution_count": 7,
   "metadata": {},
   "outputs": [
    {
     "data": {
      "text/plain": [
       "SolveKnapInstance (generic function with 1 method)"
      ]
     },
     "execution_count": 7,
     "metadata": {},
     "output_type": "execute_result"
    }
   ],
   "source": [
    "\n",
    "function SolveKnapInstance(filename)\n",
    "\n",
    "        cout, poids, capacite = readKnaptxtInstance(filename)\n",
    "        \n",
    "        indicesOrdonne = sortperm(cout) #ordonner le vecteur cout de manière décroissante\n",
    "        indicesOrdonne = reverse(indicesOrdonne)\n",
    "        poidsOrdonne = poids[indicesOrdonne]        \n",
    "        coutOrdonne = cout[indicesOrdonne]\n",
    "        \n",
    "        tab = CreatTableau(coutOrdonne, poidsOrdonne, capacite) #On appelle la fonction createTableau aprés avoir ordonné de façon décroissante le poids des objets\n",
    "        \n",
    "        MeilleurGain, indMax = FoundSolution(tab, length(cout), capacite)\n",
    "        \n",
    "        MeilleurSol = [0 for i=1:length(cout)]\n",
    "        ind = indicesOrdonne[indMax]\n",
    "        for k in ind\n",
    "            MeilleurSol[k] = 1\n",
    "        end\n",
    "        \n",
    "        return MeilleurGain, MeilleurSol\n",
    "    end\n"
   ]
  },
  {
   "cell_type": "code",
   "execution_count": null,
   "metadata": {},
   "outputs": [],
   "source": [
    "###Expliquons le fonctionnement du programme ci dessus:\n",
    "La fonction 'SolveKnapInstance' est utilisée pour résoudre une instance particulière du problème du sac à dos en utilisant \n",
    "l'algorithme de programmation dynamique. Elle prend en entrée un nom de fichier qui contient les informations sur les \n",
    "coûts, les poids et la contrainte de poids maximale pour l'instance du problème du sac à dos.\n",
    "\n",
    "La fonction commence par lire ces informations à partir du fichier en appelant la fonction readKnaptxtInstance et en \n",
    "stockant les résultats dans les variables 'cout', 'poids' et 'capacite'.\n",
    "\n",
    "Ensuite, la fonction ordonne les vecteurs cout et poids de manière décroissante en utilisant la fonction 'sortperm' et en \n",
    "les inversant avec reverse. Ces vecteurs ordonnés sont stockés dans les variables coutOrdonne et poidsOrdonne.\n",
    "\n",
    "La fonction appelle ensuite la fonction 'CreatTableau' en passant en entrée les vecteurs ordonnés 'coutOrdonne' et \n",
    "'poidsOrdonne', ainsi que la contrainte de poids maximale 'capacite'. Le tableau de résultats retourné par la fonction \n",
    "'CreatTableau' est stocké dans la variable tab.\n",
    "\n",
    "Ensuite, la fonction appelle la fonction FoundSolution en passant en entrée le tableau de résultats tab, le nombre \n",
    "d'objets concidérés au départ et la contrainte de poids maximale capacite. La fonction FoundSolution retourne le coût \n",
    "maximal trouvé et la liste des indices des objets qui ont été sélectionnés pour atteindre ce coût maximal, qui sont \n",
    "stockés dans les variables 'MeilleurGain' et 'indMax'.\n",
    "\n",
    "Enfin, la fonction construit la solution finale en mettant à jour la liste MeilleurSol avec un 1 pour chaque objet qui a \n",
    "été sélectionné et 0 pour les autres. La fonction retourne le coût maximal MeilleurGain et la liste des objets \n",
    "sélectionnés MeilleurSol."
   ]
  },
  {
   "cell_type": "markdown",
   "metadata": {},
   "source": [
    "### Affichage du résultat final"
   ]
  },
  {
   "cell_type": "code",
   "execution_count": 8,
   "metadata": {},
   "outputs": [
    {
     "name": "stdout",
     "output_type": "stream",
     "text": [
      "\n",
      "******\n",
      "\n",
      "Optimal value = 65\n",
      "\n",
      "Optimal x=[0, 1, 0, 1]\n"
     ]
    }
   ],
   "source": [
    "fold = \"instancesETU/KNAPnewformat/test.opb.txt\"\n",
    "\n",
    "MeilleurGain, MeilleurSol = SolveKnapInstance(fold)\n",
    "println(\"\\n******\\n\\nOptimal value = \", MeilleurGain, \"\\n\\nOptimal x=\", MeilleurSol)\n",
    "     "
   ]
  },
  {
   "cell_type": "code",
   "execution_count": 9,
   "metadata": {},
   "outputs": [
    {
     "name": "stdout",
     "output_type": "stream",
     "text": [
      "\n",
      "******\n",
      "\n",
      "Optimal value = 12593\n",
      "\n",
      "Optimal x=[0, 0, 0, 0, 0, 0, 0, 0, 0, 0, 0, 0, 0, 0, 1, 0, 0, 0, 0, 0, 0, 0, 0, 0, 0, 0, 0, 0, 0, 0, 0, 0, 0, 0, 0, 0, 0, 0, 0, 0, 0, 0, 1, 0, 1, 0, 0, 0, 0, 0, 0, 0, 0, 0, 0, 0, 1, 0, 0, 0, 0, 0, 0, 0, 0, 0, 0, 0, 0, 0, 0, 0, 0, 1, 0, 0, 0, 0, 1, 0, 0, 0, 0, 0, 1, 0, 0, 0, 0, 0, 0, 0, 0, 0, 0, 0, 0, 0, 0, 0, 0, 0, 0, 0, 0, 0, 1, 0, 0, 0, 0, 0, 0, 0, 0, 0, 0, 0, 0, 0, 0, 0, 0, 0, 0, 0, 0, 0, 0, 0, 0, 0, 0, 0, 0, 0, 0, 0, 0, 0, 0, 0, 0, 0, 1, 0, 0, 1, 0, 0, 0, 0, 0, 0, 0, 0, 0, 0, 0, 0, 0, 0, 0, 0, 0, 0, 0, 0, 0, 0, 0, 0, 0, 0, 0, 0, 1, 0, 1, 0, 0, 0, 0, 0, 0, 0, 0, 0, 0, 0, 0, 1, 0, 0, 0, 0, 1, 0, 0, 0, 0, 0, 0, 0, 0, 0, 1, 0, 0, 0, 0, 1, 0, 0, 0, 0, 0, 0, 0, 0, 0, 0, 0, 0, 0, 0, 0, 1, 0, 0, 0, 0, 0, 0, 0, 0, 0, 0, 0, 0, 0, 1, 0, 0, 0, 1, 0, 0, 0, 0, 0, 0, 0, 0, 0, 0, 0, 0, 0, 0, 0, 0, 0, 1, 0, 0, 0, 1, 0, 1, 0, 0, 1, 0, 0, 0, 0, 0, 1, 0, 0, 0, 0, 0, 0, 0, 0, 0, 0, 0, 0, 0, 0, 0, 1, 0, 0, 0, 1, 0, 0, 0, 0, 1, 0, 0, 0, 0, 0, 0, 0, 0, 0, 0, 0, 0, 0, 1, 0, 0, 0, 0, 0, 0, 0, 1, 0, 0, 1, 1, 0, 0, 0, 0, 0, 0, 0, 0, 0, 0, 0, 0, 1, 0, 0, 0, 0, 0, 0, 0, 1, 1, 0, 0, 0, 0, 0, 0, 0, 0, 1, 0, 0, 0, 0, 0, 0, 0, 0, 0, 1, 0, 0, 0, 0, 0, 0, 0, 1, 0, 0, 0, 1, 0, 0, 0, 0, 0, 0, 0, 0, 0, 0, 0, 0, 0, 0, 0, 0, 0, 0, 0, 0, 0, 0, 0, 0, 0, 0, 1, 1, 1, 0, 0, 0, 0, 0, 0, 0, 1, 0, 0, 0, 0, 0, 0, 0, 0, 0, 0, 0, 0, 0, 0, 0, 0, 0, 0, 0, 0, 0, 0, 0, 1, 0, 0, 0, 1, 0, 0, 0, 0, 0, 0, 0, 0, 0, 0, 0, 0, 0, 0, 0, 1, 0, 0, 0, 0, 0, 0, 0, 0, 0, 1, 0, 0, 0, 0, 0, 0, 0, 0, 0, 1, 0, 0, 0, 0, 0, 0, 1, 0, 0, 0, 0, 0, 0, 0, 0, 0]\n"
     ]
    }
   ],
   "source": [
    "fold = \"instancesETU/KNAPnewformat/circle/knapPI_16_100_1000_5_\n",
    "-8569.opb.txt\"\n",
    "\n",
    "MeilleurGain, MeilleurSol = SolveKnapInstance(fold)\n",
    "println(\"\\n******\\n\\nOptimal value = \", MeilleurGain, \"\\n\\nOptimal x=\", MeilleurSol)\n",
    "     "
   ]
  },
  {
   "cell_type": "code",
   "execution_count": 14,
   "metadata": {},
   "outputs": [
    {
     "name": "stdout",
     "output_type": "stream",
     "text": [
      "\n",
      "******\n",
      "\n",
      "Optimal value = 4953\n",
      "\n",
      "Optimal x=[1, 0, 0, 0, 0, 0, 0, 0, 0, 0, 0, 0, 0, 0, 1, 0, 0, 0, 0, 0, 0, 0, 0, 0, 0, 0, 0, 0, 0, 0, 0, 1, 0, 0, 0, 0, 0, 0, 0, 0, 0, 0, 1, 0, 1, 0, 0, 0, 0, 0, 0, 0, 0, 0, 0, 0, 1, 0, 0, 0, 0, 0, 0, 0, 0, 0, 0, 0, 0, 0, 1, 0, 0, 0, 0, 0, 0, 0, 1, 0, 0, 1, 0, 0, 1, 0, 0, 0, 0, 0, 0, 0, 0, 0, 0, 0, 0, 0, 0, 0, 0, 0, 0, 0, 0, 0, 1, 0, 0, 0, 0, 0, 0, 0, 0, 0, 0, 0, 0, 0, 0, 0, 0, 0, 0, 0, 0, 0, 0, 0, 0, 0, 0, 0, 0, 0, 0, 0, 0, 0, 0, 0, 0, 0, 1, 0, 0, 1, 0, 0, 0, 0, 0, 0, 0, 0, 0, 0, 0, 0, 0, 0, 0, 0, 0, 0, 0, 0, 0, 0, 0, 0, 0, 0, 1, 0, 1, 0, 1, 0, 0, 0, 0, 0, 0, 0, 0, 0, 0, 0, 0, 1, 0, 0, 0, 0, 1, 0, 0, 0]\n"
     ]
    }
   ],
   "source": [
    "fold = \"instancesETU/KNAPnewformat/circle/knapPI_16_100_1000_2_-3898.opb.txt\"\n",
    "\n",
    "MeilleurGain, MeilleurSol = SolveKnapInstance(fold)\n",
    "println(\"\\n******\\n\\nOptimal value = \", MeilleurGain, \"\\n\\nOptimal x=\", MeilleurSol)\n",
    "     "
   ]
  },
  {
   "cell_type": "code",
   "execution_count": null,
   "metadata": {},
   "outputs": [],
   "source": [
    "###Comparaison avec branch-and-bound:"
   ]
  },
  {
   "cell_type": "code",
   "execution_count": null,
   "metadata": {},
   "outputs": [],
   "source": []
  },
  {
   "cell_type": "code",
   "execution_count": null,
   "metadata": {},
   "outputs": [],
   "source": []
  }
 ],
 "metadata": {
  "kernelspec": {
   "display_name": "Julia 1.8.3",
   "language": "julia",
   "name": "julia-1.8"
  },
  "language_info": {
   "file_extension": ".jl",
   "mimetype": "application/julia",
   "name": "julia",
   "version": "1.8.3"
  }
 },
 "nbformat": 4,
 "nbformat_minor": 4
}
