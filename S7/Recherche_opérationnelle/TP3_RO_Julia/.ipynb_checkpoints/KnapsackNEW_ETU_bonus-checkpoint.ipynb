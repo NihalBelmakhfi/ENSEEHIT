{
 "cells": [
  {
   "cell_type": "markdown",
   "metadata": {},
   "source": [
    "# TP 2-3 : Programmation dynamique/ bonus"
   ]
  },
  {
   "cell_type": "markdown",
   "metadata": {},
   "source": [
    "### Initialisation (à faire une seule fois)"
   ]
  },
  {
   "cell_type": "markdown",
   "metadata": {},
   "source": [
    "### Algorithme de bellmanFord"
   ]
  },
  {
   "cell_type": "code",
   "execution_count": 4,
   "metadata": {},
   "outputs": [
    {
     "data": {
      "text/plain": [
       "bellman_Ford (generic function with 1 method)"
      ]
     },
     "execution_count": 4,
     "metadata": {},
     "output_type": "execute_result"
    }
   ],
   "source": [
    "function bellman_Ford(graph, source)\n",
    "    # Initialiser les distances à l'infini pour tous les sommets, sauf pour la source\n",
    "    distances = Inf .* ones(graph.numVertices)\n",
    "    distances[source] = 0\n",
    "    \n",
    "    # Répéter |V| - 1 fois\n",
    "    for i in 1:graph.numVertices-1\n",
    "        # Pour chaque arête (u, v) avec poids w, mettre à jour la distance de v si nécessaire\n",
    "        for u in 1:graph.numVertices\n",
    "            for v in graph.adjList[u]\n",
    "                distances[v.vertex] = min(distances[v.vertex], distances[u] + v.weight)\n",
    "            end\n",
    "        end\n",
    "    end\n",
    "    \n",
    "    # Vérifier s'il y a des cycles de poids négatif\n",
    "    for u in 1:graph.numVertices\n",
    "        for v in graph.adjList[u]\n",
    "            #Si une arête (u, v) a un poids négatif et que la distance de v est supérieure à la distance de u plus \n",
    "            #le poids de l'arête, alors il y a un cycle de poids négatif dans le graphe et l'algorithme lève une erreur.\n",
    "            if distances[v.vertex] > distances[u] + v.weight\n",
    "                error(\"Graphe contient un cycle de poids négatif\")\n",
    "            end\n",
    "        end\n",
    "    end\n",
    "    #l'algorithme retourne le tableau de distances qui contient le plus court chemin entre le sommet source et tous \n",
    "    #les autres sommets.\n",
    "    return distances\n",
    "end"
   ]
  },
  {
   "cell_type": "markdown",
   "metadata": {},
   "source": [
    "###  On test l'algorithme de Bellman-ford\n"
   ]
  },
  {
   "cell_type": "code",
   "execution_count": 18,
   "metadata": {
    "scrolled": true
   },
   "outputs": [
    {
     "ename": "LoadError",
     "evalue": "BoundsError: attempt to access 0-element Vector{Any} at index [1]",
     "output_type": "error",
     "traceback": [
      "BoundsError: attempt to access 0-element Vector{Any} at index [1]",
      "",
      "Stacktrace:",
      " [1] getindex(A::Vector{Any}, i1::Int64)",
      "   @ Base .\\array.jl:924",
      " [2] add_edge(graph::Graph, u::Int64, v::Int64, w::Int64)",
      "   @ Main .\\In[18]:8",
      " [3] top-level scope",
      "   @ In[18]:14",
      " [4] eval",
      "   @ .\\boot.jl:368 [inlined]",
      " [5] include_string(mapexpr::typeof(REPL.softscope), mod::Module, code::String, filename::String)",
      "   @ Base .\\loading.jl:1428"
     ]
    }
   ],
   "source": [
    "    struct Graph\n",
    "        numVertices::Int\n",
    "        adjList::Vector\n",
    "    end\n",
    "\n",
    "    function add_edge(graph::Graph, u::Int, v::Int, w::Int)\n",
    "        # Ajout de l'arête (u, v) au graphe, avec un poids w\n",
    "        push!(graph.adjList[u], Edge(v, w))\n",
    "    end\n",
    "\n",
    "    #function test_bellmanFord_simple_graph()\n",
    "        # Création d'un graphe simple avec un seul sommet et une seule arête\n",
    "        graph = Graph(1,[])\n",
    "        add_edge(graph, 1, 1, 0) #La fonction add_edge(graph, u, v, w) ajoute une arête au graphe graph entre les sommets u et v, avec un poids w   \n",
    "        # Appel de l'algorithme de Bellman-Ford\n",
    "        distances = bellman_Ford(graph, 1)    \n",
    "        # Vérification que la distance du sommet source (1) est bien 0\n",
    "        assert distances[1] == 0\n",
    "    #end"
   ]
  },
  {
   "cell_type": "code",
   "execution_count": 21,
   "metadata": {},
   "outputs": [
    {
     "ename": "LoadError",
     "evalue": "type Array has no field numVertices",
     "output_type": "error",
     "traceback": [
      "type Array has no field numVertices",
      "",
      "Stacktrace:",
      " [1] getproperty",
      "   @ .\\Base.jl:38 [inlined]",
      " [2] bellman_Ford(graph::Matrix{Float64}, source::Matrix{Int64})",
      "   @ Main .\\In[8]:3",
      " [3] top-level scope",
      "   @ In[21]:8",
      " [4] eval",
      "   @ .\\boot.jl:368 [inlined]",
      " [5] include_string(mapexpr::typeof(REPL.softscope), mod::Module, code::String, filename::String)",
      "   @ Base .\\loading.jl:1428"
     ]
    }
   ],
   "source": [
    "graph = [0 3 Inf Inf 5 Inf; \n",
    "        Inf 0 4 Inf Inf Inf; \n",
    "        Inf Inf 0 2 Inf Inf; \n",
    "        Inf Inf Inf 0 Inf 3; \n",
    "        Inf -1 Inf 9 0 Inf; \n",
    "        Inf Inf Inf Inf Inf 0]\n",
    "source = [1 2 3 4 5 6]\n",
    "bellman_Ford(graph, source)"
   ]
  },
  {
   "cell_type": "code",
   "execution_count": null,
   "metadata": {},
   "outputs": [],
   "source": []
  }
 ],
 "metadata": {
  "kernelspec": {
   "display_name": "Julia 1.8.3",
   "language": "julia",
   "name": "julia-1.8"
  },
  "language_info": {
   "file_extension": ".jl",
   "mimetype": "application/julia",
   "name": "julia",
   "version": "1.8.3"
  }
 },
 "nbformat": 4,
 "nbformat_minor": 4
}
