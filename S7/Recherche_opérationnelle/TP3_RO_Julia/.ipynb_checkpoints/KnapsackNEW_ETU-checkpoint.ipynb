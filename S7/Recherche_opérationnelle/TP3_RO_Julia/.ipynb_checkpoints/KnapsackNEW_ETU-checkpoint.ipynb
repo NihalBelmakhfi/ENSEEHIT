{
 "cells": [
  {
   "cell_type": "markdown",
   "metadata": {},
   "source": [
    "# TP 2-3 : Programmation dynamique"
   ]
  },
  {
   "cell_type": "markdown",
   "metadata": {},
   "source": [
    "### Initialisation (à faire une seule fois)"
   ]
  },
  {
   "cell_type": "markdown",
   "metadata": {},
   "source": [
    "### Récupération des données"
   ]
  },
  {
   "cell_type": "code",
   "execution_count": 1,
   "metadata": {},
   "outputs": [
    {
     "data": {
      "text/plain": [
       "readKnaptxtInstance (generic function with 1 method)"
      ]
     },
     "execution_count": 1,
     "metadata": {},
     "output_type": "execute_result"
    }
   ],
   "source": [
    "function readKnaptxtInstance(filename)\n",
    "    price=[]\n",
    "    weight=[]\n",
    "    KnapCap=[]\n",
    "    open(filename) do f\n",
    "        for i in 1:3\n",
    "            tok = split(readline(f))\n",
    "            if(tok[1] == \"ListPrices=\")\n",
    "                for i in 2:(length(tok)-1)\n",
    "                    push!(price,parse(Int64, tok[i]))\n",
    "                end\n",
    "            elseif(tok[1] == \"ListWeights=\")\n",
    "                for i in 2:(length(tok)-1)\n",
    "                    push!(weight,parse(Int64, tok[i]))\n",
    "                end\n",
    "            elseif(tok[1] == \"Capacity=\")\n",
    "                push!(KnapCap, parse(Int64, tok[2]))\n",
    "            else\n",
    "                println(\"Unknown read :\", tok)\n",
    "            end \n",
    "        end\n",
    "    end\n",
    "    capacity=KnapCap[1]\n",
    "    return price, weight, capacity\n",
    "end"
   ]
  },
  {
   "cell_type": "markdown",
   "metadata": {},
   "source": [
    "###  fonction de créaction de tableau \n"
   ]
  },
  {
   "cell_type": "code",
   "execution_count": 2,
   "metadata": {},
   "outputs": [
    {
     "data": {
      "text/plain": [
       "CreatTableau (generic function with 1 method)"
      ]
     },
     "execution_count": 2,
     "metadata": {},
     "output_type": "execute_result"
    }
   ],
   "source": [
    "    # fonction: CreatTableau\n",
    "    # Les paramètres d'entrée: liste des couts(prix), poids des objets dans l'odre décroissant des prix,\n",
    "    #              la capacité maximale du sac \n",
    "    # Valeur duretour : le tableau des prix maximaux en fonction du poids maximal du sac et du nombre d'objets \n",
    "    \n",
    "    function CreatTableau(cout, poids, capacite)\n",
    "    lcout = length(cout)\n",
    "    tableau = [(0,[]) for i=1:(lcout), j=1:(capacite+1)]\n",
    "    \n",
    "    for j in 1:(capacite+1)                 #pour initialiser la première ligne du tableau\n",
    "        if j-1 >= poids[1]\n",
    "            (p,t) = tableau[1,j]\n",
    "            tableau[1,j] = (cout[1],[1])\n",
    "        end\n",
    "    end\n",
    "    \n",
    "    \n",
    "    for i in 2:(lcout)                  \n",
    "        for j in 2:(capacite+1)\n",
    "            if (j-poids[i]) > 0               #On applique la relation du cours\n",
    "                (p1,t1) = tableau[(i-1),j]\n",
    "                (p2,t2) = tableau[(i-1),(j-poids[i])]\n",
    "                if p2 + cout[i] > p1\n",
    "                    t3 = copy(t2)\n",
    "                    t3 = push!(t3,i)\n",
    "                    tableau[i,j] = (p2 + cout[i], t3)\n",
    "                else \n",
    "                    tableau[i,j] = (p1,t1)\n",
    "                end\n",
    "            else\n",
    "                (p1,t1) = tableau[(i-1),j]\n",
    "                tableau[i,j] = (p1,t1)\n",
    "            end\n",
    "        end\n",
    "    end\n",
    "    return tableau\n",
    "end\n",
    "\n",
    "#Tout d'abord on définit la fonction createTableau qui s'occupe de la création d'un tableau \n",
    "#des prix maximaux en fonction du poids maximal du sac et du nombre d'objets \n",
    "\n",
    "#t3: liste ou on met l'élément qu'on ajouté au sac pour qu'il aura cette capacité\n",
    "\n",
    "\n",
    "\n",
    "   "
   ]
  },
  {
   "cell_type": "markdown",
   "metadata": {},
   "source": [
    "###  fonction de recherche de solution\n"
   ]
  },
  {
   "cell_type": "code",
   "execution_count": 3,
   "metadata": {},
   "outputs": [
    {
     "data": {
      "text/plain": [
       "FoundSolution (generic function with 1 method)"
      ]
     },
     "execution_count": 3,
     "metadata": {},
     "output_type": "execute_result"
    }
   ],
   "source": [
    "# fonction : FoundSolution\n",
    "# parametres d'entrée: le tableau retourné par la fonction CreatTableau\n",
    "#              le nombre d'objets concidérés au départ \n",
    "#              la capacité maximale du sac \n",
    "# retour : le cout maximum correspôndant à la capacité maximale du sac, \n",
    "#          les indices dans l'ordre décroissant de prix des objets dans le sac \n",
    "\n",
    "function FoundSolution(tableau, lcout, capacite)\n",
    "    coutMax = 0\n",
    "    indMax = []\n",
    "    for i in 1:lcout\n",
    "        (t,ind) = tableau[i,capacite+1] \n",
    "        if t > coutMax\n",
    "            coutMax = t\n",
    "            indMax = ind\n",
    "        end\n",
    "    end\n",
    "    return coutMax, indMax\n",
    "end"
   ]
  },
  {
   "cell_type": "markdown",
   "metadata": {},
   "source": [
    "### Boucle principale : résoudre le problème par programmation dynamique"
   ]
  },
  {
   "cell_type": "code",
   "execution_count": 7,
   "metadata": {},
   "outputs": [
    {
     "data": {
      "text/plain": [
       "SolveKnapInstance (generic function with 1 method)"
      ]
     },
     "execution_count": 7,
     "metadata": {},
     "output_type": "execute_result"
    }
   ],
   "source": [
    "\n",
    "function SolveKnapInstance(filename)\n",
    "\n",
    "        cout, poids, capacite = readKnaptxtInstance(filename)\n",
    "        \n",
    "        indicesOrdonne = sortperm(cout) #ordonner le vecteur cout de manière décroissante\n",
    "        indicesOrdonne = reverse(indicesOrdonne)\n",
    "        poidsOrdonne = poids[indicesOrdonne]        \n",
    "        coutOrdonne = cout[indicesOrdonne]\n",
    "        \n",
    "        tab = CreatTableau(coutOrdonne, poidsOrdonne, capacite) #On appelle la fonction createTableau aprés avoir ordonné de façon décroissante le poids des objets\n",
    "        \n",
    "        MeilleurGain, indMax = FoundSolution(tab, length(cout), capacite)\n",
    "        \n",
    "        MeilleurSol = [0 for i=1:length(cout)]\n",
    "        ind = indicesOrdonne[indMax]\n",
    "        for k in ind\n",
    "            MeilleurSol[k] = 1\n",
    "        end\n",
    "        \n",
    "        return MeilleurGain, MeilleurSol\n",
    "    end\n"
   ]
  },
  {
   "cell_type": "code",
   "execution_count": 8,
   "metadata": {},
   "outputs": [
    {
     "name": "stdout",
     "output_type": "stream",
     "text": [
      "\n",
      "******\n",
      "\n",
      "Optimal value = 65\n",
      "\n",
      "Optimal x=[0, 1, 0, 1]\n"
     ]
    }
   ],
   "source": [
    "fold = \"instancesETU/KNAPnewformat/test.opb.txt\"\n",
    "\n",
    "MeilleurGain, MeilleurSol = SolveKnapInstance(fold)\n",
    "println(\"\\n******\\n\\nOptimal value = \", MeilleurGain, \"\\n\\nOptimal x=\", MeilleurSol)\n",
    "     "
   ]
  },
  {
   "cell_type": "markdown",
   "metadata": {},
   "source": [
    "### Affichage du résultat final"
   ]
  },
  {
   "cell_type": "code",
   "execution_count": 9,
   "metadata": {},
   "outputs": [
    {
     "name": "stdout",
     "output_type": "stream",
     "text": [
      "\n",
      "******\n",
      "\n",
      "Optimal value = 12593\n",
      "\n",
      "Optimal x=[0, 0, 0, 0, 0, 0, 0, 0, 0, 0, 0, 0, 0, 0, 1, 0, 0, 0, 0, 0, 0, 0, 0, 0, 0, 0, 0, 0, 0, 0, 0, 0, 0, 0, 0, 0, 0, 0, 0, 0, 0, 0, 1, 0, 1, 0, 0, 0, 0, 0, 0, 0, 0, 0, 0, 0, 1, 0, 0, 0, 0, 0, 0, 0, 0, 0, 0, 0, 0, 0, 0, 0, 0, 1, 0, 0, 0, 0, 1, 0, 0, 0, 0, 0, 1, 0, 0, 0, 0, 0, 0, 0, 0, 0, 0, 0, 0, 0, 0, 0, 0, 0, 0, 0, 0, 0, 1, 0, 0, 0, 0, 0, 0, 0, 0, 0, 0, 0, 0, 0, 0, 0, 0, 0, 0, 0, 0, 0, 0, 0, 0, 0, 0, 0, 0, 0, 0, 0, 0, 0, 0, 0, 0, 0, 1, 0, 0, 1, 0, 0, 0, 0, 0, 0, 0, 0, 0, 0, 0, 0, 0, 0, 0, 0, 0, 0, 0, 0, 0, 0, 0, 0, 0, 0, 0, 0, 1, 0, 1, 0, 0, 0, 0, 0, 0, 0, 0, 0, 0, 0, 0, 1, 0, 0, 0, 0, 1, 0, 0, 0, 0, 0, 0, 0, 0, 0, 1, 0, 0, 0, 0, 1, 0, 0, 0, 0, 0, 0, 0, 0, 0, 0, 0, 0, 0, 0, 0, 1, 0, 0, 0, 0, 0, 0, 0, 0, 0, 0, 0, 0, 0, 1, 0, 0, 0, 1, 0, 0, 0, 0, 0, 0, 0, 0, 0, 0, 0, 0, 0, 0, 0, 0, 0, 1, 0, 0, 0, 1, 0, 1, 0, 0, 1, 0, 0, 0, 0, 0, 1, 0, 0, 0, 0, 0, 0, 0, 0, 0, 0, 0, 0, 0, 0, 0, 1, 0, 0, 0, 1, 0, 0, 0, 0, 1, 0, 0, 0, 0, 0, 0, 0, 0, 0, 0, 0, 0, 0, 1, 0, 0, 0, 0, 0, 0, 0, 1, 0, 0, 1, 1, 0, 0, 0, 0, 0, 0, 0, 0, 0, 0, 0, 0, 1, 0, 0, 0, 0, 0, 0, 0, 1, 1, 0, 0, 0, 0, 0, 0, 0, 0, 1, 0, 0, 0, 0, 0, 0, 0, 0, 0, 1, 0, 0, 0, 0, 0, 0, 0, 1, 0, 0, 0, 1, 0, 0, 0, 0, 0, 0, 0, 0, 0, 0, 0, 0, 0, 0, 0, 0, 0, 0, 0, 0, 0, 0, 0, 0, 0, 0, 1, 1, 1, 0, 0, 0, 0, 0, 0, 0, 1, 0, 0, 0, 0, 0, 0, 0, 0, 0, 0, 0, 0, 0, 0, 0, 0, 0, 0, 0, 0, 0, 0, 0, 1, 0, 0, 0, 1, 0, 0, 0, 0, 0, 0, 0, 0, 0, 0, 0, 0, 0, 0, 0, 1, 0, 0, 0, 0, 0, 0, 0, 0, 0, 1, 0, 0, 0, 0, 0, 0, 0, 0, 0, 1, 0, 0, 0, 0, 0, 0, 1, 0, 0, 0, 0, 0, 0, 0, 0, 0]\n"
     ]
    }
   ],
   "source": [
    "fold = \"instancesETU/KNAPnewformat/circle/knapPI_16_100_1000_5_\n",
    "-8569.opb.txt\"\n",
    "\n",
    "MeilleurGain, MeilleurSol = SolveKnapInstance(fold)\n",
    "println(\"\\n******\\n\\nOptimal value = \", MeilleurGain, \"\\n\\nOptimal x=\", MeilleurSol)\n",
    "     "
   ]
  },
  {
   "cell_type": "code",
   "execution_count": 14,
   "metadata": {},
   "outputs": [
    {
     "name": "stdout",
     "output_type": "stream",
     "text": [
      "\n",
      "******\n",
      "\n",
      "Optimal value = 4953\n",
      "\n",
      "Optimal x=[1, 0, 0, 0, 0, 0, 0, 0, 0, 0, 0, 0, 0, 0, 1, 0, 0, 0, 0, 0, 0, 0, 0, 0, 0, 0, 0, 0, 0, 0, 0, 1, 0, 0, 0, 0, 0, 0, 0, 0, 0, 0, 1, 0, 1, 0, 0, 0, 0, 0, 0, 0, 0, 0, 0, 0, 1, 0, 0, 0, 0, 0, 0, 0, 0, 0, 0, 0, 0, 0, 1, 0, 0, 0, 0, 0, 0, 0, 1, 0, 0, 1, 0, 0, 1, 0, 0, 0, 0, 0, 0, 0, 0, 0, 0, 0, 0, 0, 0, 0, 0, 0, 0, 0, 0, 0, 1, 0, 0, 0, 0, 0, 0, 0, 0, 0, 0, 0, 0, 0, 0, 0, 0, 0, 0, 0, 0, 0, 0, 0, 0, 0, 0, 0, 0, 0, 0, 0, 0, 0, 0, 0, 0, 0, 1, 0, 0, 1, 0, 0, 0, 0, 0, 0, 0, 0, 0, 0, 0, 0, 0, 0, 0, 0, 0, 0, 0, 0, 0, 0, 0, 0, 0, 0, 1, 0, 1, 0, 1, 0, 0, 0, 0, 0, 0, 0, 0, 0, 0, 0, 0, 1, 0, 0, 0, 0, 1, 0, 0, 0]\n"
     ]
    }
   ],
   "source": [
    "fold = \"instancesETU/KNAPnewformat/circle/knapPI_16_100_1000_2_-3898.opb.txt\"\n",
    "\n",
    "MeilleurGain, MeilleurSol = SolveKnapInstance(fold)\n",
    "println(\"\\n******\\n\\nOptimal value = \", MeilleurGain, \"\\n\\nOptimal x=\", MeilleurSol)\n",
    "     "
   ]
  },
  {
   "cell_type": "code",
   "execution_count": null,
   "metadata": {},
   "outputs": [],
   "source": []
  },
  {
   "cell_type": "code",
   "execution_count": null,
   "metadata": {},
   "outputs": [],
   "source": []
  },
  {
   "cell_type": "code",
   "execution_count": null,
   "metadata": {},
   "outputs": [],
   "source": []
  }
 ],
 "metadata": {
  "kernelspec": {
   "display_name": "Julia 1.8.3",
   "language": "julia",
   "name": "julia-1.8"
  },
  "language_info": {
   "file_extension": ".jl",
   "mimetype": "application/julia",
   "name": "julia",
   "version": "1.8.3"
  }
 },
 "nbformat": 4,
 "nbformat_minor": 4
}
